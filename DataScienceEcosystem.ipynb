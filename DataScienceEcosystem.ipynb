{
 "cells": [
  {
   "cell_type": "markdown",
   "id": "7bd4b912-980d-4e27-8ee8-25c33f8fbbc8",
   "metadata": {},
   "source": [
    "# Data Science Tools and Ecosystem"
   ]
  },
  {
   "cell_type": "markdown",
   "id": "fe0e6b11-6fad-41c4-ba85-9b4bc051fe1e",
   "metadata": {},
   "source": [
    "In this notebook, Data Science Tools and Ecosystem are summarized."
   ]
  },
  {
   "cell_type": "markdown",
   "id": "ceb29a55-c2a6-4dda-afb0-fe64818868f3",
   "metadata": {},
   "source": [
    "**Objectives**\n",
    "- List popular languages in Data Science\n",
    "- Become familiar with common tools in Data Science\n",
    "- Practice using Jupyter Notebooks"
   ]
  },
  {
   "cell_type": "markdown",
   "id": "5916e48b-f375-49c7-a9e8-01d4ab4ede28",
   "metadata": {},
   "source": [
    "Some of the popular languages that Data Scientists use are:\n",
    "1. Python\n",
    "2. R\n",
    "3. SQL"
   ]
  },
  {
   "cell_type": "markdown",
   "id": "219f80de-83b1-4deb-8cff-267ff4b9a20a",
   "metadata": {},
   "source": [
    "Some of the commonly used libraries used by Data Scientists include:\n",
    "1. Pandas\n",
    "2. Pytorch\n",
    "3. Tensorflow"
   ]
  },
  {
   "cell_type": "markdown",
   "id": "d70e3ea3-8ed7-44cc-ba23-1c1d6912e457",
   "metadata": {},
   "source": [
    "|Data Science Tools|\n",
    "|------------------|\n",
    "|Hadoop|\n",
    "|Spark|\n",
    "|Pandas|"
   ]
  },
  {
   "cell_type": "markdown",
   "id": "f7a5a39d-c638-4a4e-989d-608e109e77aa",
   "metadata": {},
   "source": [
    "### Below are a few examples of evaluating arithmetic expressions in Python"
   ]
  },
  {
   "cell_type": "code",
   "execution_count": 10,
   "id": "2dd31b0e-28e3-4969-bf2e-2a3c07d98e0a",
   "metadata": {},
   "outputs": [
    {
     "data": {
      "text/plain": [
       "17"
      ]
     },
     "execution_count": 10,
     "metadata": {},
     "output_type": "execute_result"
    }
   ],
   "source": [
    "# This a simple arithmetic expression to mutiply then add integers\n",
    "(3*4)+5"
   ]
  },
  {
   "cell_type": "code",
   "execution_count": 14,
   "id": "2825a899-31b9-412b-b370-22f08194e6fc",
   "metadata": {},
   "outputs": [
    {
     "data": {
      "text/plain": [
       "3.3333333333333335"
      ]
     },
     "execution_count": 14,
     "metadata": {},
     "output_type": "execute_result"
    }
   ],
   "source": [
    "# This will convert 200 minutes to hours by diving by 60\n",
    "200/60"
   ]
  },
  {
   "cell_type": "markdown",
   "id": "da72352e-5708-4ff4-b57f-a280b4ac4463",
   "metadata": {},
   "source": [
    "## Author \n",
    "Sean "
   ]
  },
  {
   "cell_type": "code",
   "execution_count": null,
   "id": "c65c065a-d9c5-433d-bafe-4ad96f02c05c",
   "metadata": {},
   "outputs": [],
   "source": []
  }
 ],
 "metadata": {
  "kernelspec": {
   "display_name": "anaconda-panel-2023.05-py310",
   "language": "python",
   "name": "conda-env-anaconda-panel-2023.05-py310-py"
  },
  "language_info": {
   "codemirror_mode": {
    "name": "ipython",
    "version": 3
   },
   "file_extension": ".py",
   "mimetype": "text/x-python",
   "name": "python",
   "nbconvert_exporter": "python",
   "pygments_lexer": "ipython3",
   "version": "3.11.4"
  }
 },
 "nbformat": 4,
 "nbformat_minor": 5
}
